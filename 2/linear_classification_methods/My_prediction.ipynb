{
 "cells": [
  {
   "cell_type": "code",
   "execution_count": 6,
   "metadata": {},
   "outputs": [
    {
     "data": {
      "text/plain": [
       "0.18999999999999995"
      ]
     },
     "execution_count": 6,
     "metadata": {},
     "output_type": "execute_result"
    }
   ],
   "source": [
    "import pandas\n",
    "from sklearn.linear_model import Perceptron\n",
    "from sklearn.preprocessing import StandardScaler\n",
    "from sklearn.metrics import accuracy_score\n",
    "\n",
    "#Загрузите обучающую и тестовую выборки из файлов. \n",
    "#Целевая переменная записана в первом столбце, признаки - во втором и третьем.\n",
    "train = pandas.read_csv('perceptron-train.csv', header = None)\n",
    "train.columns = ['Target', 'Attribute1', 'Attribute2']\n",
    "target_train = train.Target\n",
    "X_train = train.drop(['Target'], axis=1)\n",
    "test = pandas.read_csv('perceptron-test.csv', header = None)\n",
    "test.columns = ['Target', 'Attribute1', 'Attribute2']\n",
    "target_test = test.Target\n",
    "X_test = test.drop(['Target'], axis=1)\n",
    "\n",
    "#Обучите персептрон со стандартными параметрами и random_state=241\n",
    "clf = Perceptron(random_state=241)\n",
    "clf.fit(X_train, target_train)\n",
    "predictions = clf.predict(X_test)\n",
    "\n",
    "#Подсчитайте качество полученного классификатора на тестовой выборке\n",
    "score = accuracy_score (target_test, predictions)\n",
    "\n",
    "#Нормализуйте обучающую и тестовую выборку с помощью класса StandardScaler\n",
    "scaler = StandardScaler()\n",
    "X_train_scaled = scaler.fit_transform(X_train)\n",
    "X_test_scaled = scaler.transform(X_test)\n",
    "\n",
    "#Обучите персептрон на новой выборке.\n",
    "#Найдите долю правильных ответов на тестовой выборке.\n",
    "clf.fit(X_train_scaled, target_train)\n",
    "predictions_new = clf.predict(X_test_scaled)\n",
    "score_new = accuracy_score (target_test, predictions_new)\n",
    "\n",
    "#Найдите разность между качеством на тестовой выборке после нормализации и до нее.\n",
    "#Это число и будет ответом.\n",
    "answer = score_new - score\n",
    "answer\n",
    "\n"
   ]
  },
  {
   "cell_type": "code",
   "execution_count": null,
   "metadata": {
    "collapsed": true
   },
   "outputs": [],
   "source": []
  }
 ],
 "metadata": {
  "kernelspec": {
   "display_name": "Python 2",
   "language": "python",
   "name": "python2"
  },
  "language_info": {
   "codemirror_mode": {
    "name": "ipython",
    "version": 2
   },
   "file_extension": ".py",
   "mimetype": "text/x-python",
   "name": "python",
   "nbconvert_exporter": "python",
   "pygments_lexer": "ipython2",
   "version": "2.7.13"
  }
 },
 "nbformat": 4,
 "nbformat_minor": 2
}
