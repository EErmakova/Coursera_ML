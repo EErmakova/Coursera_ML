{
 "cells": [
  {
   "cell_type": "code",
   "execution_count": 1,
   "metadata": {},
   "outputs": [
    {
     "name": "stdout",
     "output_type": "stream",
     "text": [
      "Определите, при каком p качество на кросс-валидации оказалось оптимальным.\n",
      "     Scores\n",
      "p          \n",
      "1.0   -16.1\n"
     ]
    }
   ],
   "source": [
    "import pandas\n",
    "import numpy\n",
    "from sklearn.preprocessing import scale\n",
    "from sklearn.datasets import load_boston\n",
    "from sklearn.neighbors import KNeighborsRegressor\n",
    "from sklearn.model_selection import cross_val_score, KFold\n",
    "\n",
    "#Загрузка выборки\n",
    "model = load_boston()\n",
    "X = scale(model.data)\n",
    "target = model.target\n",
    "\n",
    "kf = KFold(n_splits=5, shuffle=True, random_state=42)\n",
    "def Choise_metric(kf, X, y):\n",
    "    grid = numpy.linspace(1,10,200)\n",
    "    validationTest = {}\n",
    "    for k in grid:\n",
    "        regression = KNeighborsRegressor(p=k, n_neighbors=5, weights='distance')\n",
    "        regression.fit(X,y)\n",
    "        scores=cross_val_score(regression, X, y, scoring='neg_mean_squared_error',cv=kf)\n",
    "        validationTest[k] = round(scores.mean(),1)\n",
    "    \n",
    "    \n",
    "    #формируем датасет для сортировки    \n",
    "    validationTestDataFrame=pandas.DataFrame.from_dict(validationTest, orient='index')#получаем из словаря датасет  \n",
    "    validationTestDataFrame.index.name = 'p'\n",
    "    validationTestDataFrame.columns =['Scores']\n",
    "    validationTestDataFrame.sort_values(['Scores'], ascending=[False],inplace=True)#сортировка по убыванию значений\n",
    "    print('Определите, при каком p качество на кросс-валидации оказалось оптимальным.');\n",
    "    print(validationTestDataFrame.head(1))\n",
    "\n",
    "Choise_metric(kf, X, target)"
   ]
  },
  {
   "cell_type": "code",
   "execution_count": null,
   "metadata": {
    "collapsed": true
   },
   "outputs": [],
   "source": []
  }
 ],
 "metadata": {
  "kernelspec": {
   "display_name": "Python 2",
   "language": "python",
   "name": "python2"
  },
  "language_info": {
   "codemirror_mode": {
    "name": "ipython",
    "version": 2
   },
   "file_extension": ".py",
   "mimetype": "text/x-python",
   "name": "python",
   "nbconvert_exporter": "python",
   "pygments_lexer": "ipython2",
   "version": "2.7.13"
  }
 },
 "nbformat": 4,
 "nbformat_minor": 2
}
