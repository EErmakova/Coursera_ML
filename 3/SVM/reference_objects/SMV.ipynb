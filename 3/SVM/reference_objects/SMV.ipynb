{
 "cells": [
  {
   "cell_type": "code",
   "execution_count": 4,
   "metadata": {},
   "outputs": [
    {
     "data": {
      "text/plain": [
       "array([3, 4, 9])"
      ]
     },
     "execution_count": 4,
     "metadata": {},
     "output_type": "execute_result"
    }
   ],
   "source": [
    "import pandas\n",
    "from sklearn.svm import SVC\n",
    "\n",
    "#Загрузите выборку из файла svm-data.csv. \n",
    "#В нем записана двумерная выборка (целевая переменная указана в первом столбце, признаки — во втором и третьем).\n",
    "data = pandas.read_csv('svm-data.csv', header = None)\n",
    "data.columns = ['Target', 'Attr1', 'Attr2']\n",
    "target = data.Target\n",
    "X = data.drop(['Target'], axis = 1)\n",
    "\n",
    "#Обучите классификатор с линейным ядром, параметром С = 10000 и random_state = 241.\n",
    "clf = SVC(C = 10000, kernel = 'linear', random_state =241)\n",
    "clf.fit(X, target)\n",
    "\n",
    "#Найдите номера объектов, которые являются опорными\n",
    "index = clf.support_\n",
    "index"
   ]
  },
  {
   "cell_type": "code",
   "execution_count": null,
   "metadata": {
    "collapsed": true
   },
   "outputs": [],
   "source": []
  }
 ],
 "metadata": {
  "kernelspec": {
   "display_name": "Python 2",
   "language": "python",
   "name": "python2"
  },
  "language_info": {
   "codemirror_mode": {
    "name": "ipython",
    "version": 2
   },
   "file_extension": ".py",
   "mimetype": "text/x-python",
   "name": "python",
   "nbconvert_exporter": "python",
   "pygments_lexer": "ipython2",
   "version": "2.7.13"
  }
 },
 "nbformat": 4,
 "nbformat_minor": 2
}
