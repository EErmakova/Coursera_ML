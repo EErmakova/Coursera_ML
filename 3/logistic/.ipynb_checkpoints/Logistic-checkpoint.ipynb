{
 "cells": [
  {
   "cell_type": "code",
   "execution_count": 41,
   "metadata": {
    "scrolled": false
   },
   "outputs": [
    {
     "data": {
      "text/plain": [
       "(0.92685714285714282, 0.93628571428571417)"
      ]
     },
     "execution_count": 41,
     "metadata": {},
     "output_type": "execute_result"
    }
   ],
   "source": [
    "import pandas\n",
    "import math\n",
    "from sklearn.metrics import roc_auc_score\n",
    "import sympy\n",
    "\n",
    "#Загрузите данные из файла data-logistic.csv.\n",
    "#Это двумерная выборка, целевая переменная на которой принимает знчения -1 и 1.\n",
    "\n",
    "data = pandas.read_csv('data-logistic.csv', header = None)\n",
    "target = data[0]\n",
    "X = data.drop([0], axis = 1)\n",
    "\n",
    "\n",
    "#Убедитесь, что выше описаны правильные формулы для градиентного спуска.\n",
    "\n",
    "def dw1(X, y, w1, w2, k, C):\n",
    "    l = len(y)\n",
    "    S = 0\n",
    "    for i in xrange(0, l):\n",
    "        S += y[i] * X[1][i] * (1.0 - 1.0 / (1.0 + math.exp(-y[i] * (w1*X[1][i] + w2*X[2][i]))))\n",
    "\n",
    "    return w1 + (k * (1.0 / l) * S) - k * C * w1\n",
    "\n",
    "\n",
    "def dw2(X, y, w1, w2, k, C):\n",
    "    l = len(y)\n",
    "    S = 0\n",
    "    for i in xrange(0, l):\n",
    "        S += y[i] * X[2][i] * (1.0 - 1.0 / (1.0 + math.exp(-y[i] * (w1*X[1][i] + w2*X[2][i]))))\n",
    "\n",
    "    return w2 + (k * (1.0 / l) * S) - k * C * w2\n",
    "\n",
    "#Реализуйте градиентный спуск для обычной и L2-регуляризованной (с коэффициентом регуляризации 10) логистической регрессии. \n",
    "#Используйте длину шага k=0.1. В качестве начального приближения используйте вектор (0, 0).\n",
    "#Запустите градиентный спуск и доведите до сходимости \n",
    "#(евклидово расстояние между векторами весов на соседних итерациях должно быть не больше 1e-5).\n",
    "#Рекомендуется ограничить сверху число итераций десятью тысячами.\n",
    "\n",
    "def grad(X, y, C, w1 = 0, w2 = 0, k = 0.1, err = 1e-5):\n",
    "    i = 0\n",
    "    i_max = 10000\n",
    "    new_w1 = 0\n",
    "    new_w2 = 0\n",
    "\n",
    "    while True:\n",
    "        i+=1\n",
    "        new_w1 = dw1(X, target, w1, w2, k, C)\n",
    "        new_w2 = dw2(X, target, w1, w2, k, C)\n",
    "        error = math.sqrt((new_w1 - w1)**2 + (new_w2 - w2)**2)\n",
    "        \n",
    "        if i >= i_max or error<=err:\n",
    "            break\n",
    "        else:\n",
    "            w1 = new_w1\n",
    "            w2 = new_w2\n",
    "    return [new_w1, new_w2]\n",
    "\n",
    "w1, w2 = grad(X, target, 0)\n",
    "regw1, regw2 = grad(X, target, 10)\n",
    "\n",
    "#Какое значение принимает AUC-ROC на обучении без регуляризации и при ее использовании? Эти величины будут ответом на задание.\n",
    "#В качестве ответа приведите два числа через пробел. \n",
    "#Обратите внимание, что на вход функции roc_auc_score нужно подавать оценки вероятностей, подсчитанные обученным алгоритмом.\n",
    "#Для этого воспользуйтесь сигмоидной функцией: a(x) = 1/(1 + exp(−w1x1 − w2x2)).\n",
    "\n",
    "def a(X, w1, w2):\n",
    "    return 1 / (1+math.exp(-w1*X[1] - w2*X[2]))\n",
    "\n",
    "y_score = X.apply(lambda x: a(x, w1, w2), axis=1)\n",
    "ry_score = X.apply(lambda x: a(x, regw1, regw2), axis=1)\n",
    "\n",
    "auc = roc_auc_score(target, y_score)\n",
    "r_auc = roc_auc_score(target, ry_score)\n",
    "auc, r_auc"
   ]
  },
  {
   "cell_type": "code",
   "execution_count": null,
   "metadata": {
    "collapsed": true
   },
   "outputs": [],
   "source": []
  }
 ],
 "metadata": {
  "kernelspec": {
   "display_name": "Python 2",
   "language": "python",
   "name": "python2"
  },
  "language_info": {
   "codemirror_mode": {
    "name": "ipython",
    "version": 2
   },
   "file_extension": ".py",
   "mimetype": "text/x-python",
   "name": "python",
   "nbconvert_exporter": "python",
   "pygments_lexer": "ipython2",
   "version": "2.7.13"
  }
 },
 "nbformat": 4,
 "nbformat_minor": 2
}
