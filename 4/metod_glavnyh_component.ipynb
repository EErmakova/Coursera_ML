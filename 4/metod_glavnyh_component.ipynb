{
 "cells": [
  {
   "cell_type": "code",
   "execution_count": 1,
   "metadata": {},
   "outputs": [],
   "source": [
    "import pandas as pd\n",
    "import numpy as np\n",
    "from sklearn.decomposition import PCA"
   ]
  },
  {
   "cell_type": "code",
   "execution_count": 8,
   "metadata": {},
   "outputs": [
    {
     "data": {
      "text/plain": [
       "array([0.73897118, 0.11007169, 0.04995088, 0.0287492 , 0.02215448,\n",
       "       0.01931577, 0.00674853, 0.00614091, 0.00320594, 0.00305611])"
      ]
     },
     "execution_count": 8,
     "metadata": {},
     "output_type": "execute_result"
    }
   ],
   "source": [
    "#Загрузите данные close_prices.csv. \n",
    "#В этом файле приведены цены акций 30 компаний на закрытии торгов за каждый день периода\n",
    "data = pd.read_csv(\"close_prices.csv\")\n",
    "data = data.drop(['date'], axis = 1)\n",
    "\n",
    "#На загруженных данных обучите преобразование PCA с числом компоненты равным 10. \n",
    "#Скольких компонент хватит, чтобы объяснить 90% дисперсии?\n",
    "cl = PCA(n_components = 10)\n",
    "cl.fit(data)\n",
    "explained = cl.explained_variance_ratio_\n",
    "explained"
   ]
  },
  {
   "cell_type": "code",
   "execution_count": 12,
   "metadata": {},
   "outputs": [
    {
     "data": {
      "text/plain": [
       "0     -50.902404\n",
       "1     -52.846909\n",
       "2     -54.614439\n",
       "3     -52.600566\n",
       "4     -52.370123\n",
       "5     -54.653412\n",
       "6     -52.812575\n",
       "7     -53.651146\n",
       "8     -56.692727\n",
       "9     -54.402655\n",
       "10    -58.331645\n",
       "11    -61.716265\n",
       "12    -61.319400\n",
       "13    -53.792524\n",
       "14    -50.892634\n",
       "15    -49.637408\n",
       "16    -52.387615\n",
       "17    -47.478543\n",
       "18    -43.560335\n",
       "19    -42.559280\n",
       "20    -42.450271\n",
       "21    -42.271248\n",
       "22    -43.252728\n",
       "23    -40.059345\n",
       "24    -38.497263\n",
       "25    -39.064923\n",
       "26    -38.393044\n",
       "27    -38.400558\n",
       "28    -42.386170\n",
       "29    -39.830574\n",
       "         ...    \n",
       "344    67.607802\n",
       "345    74.206256\n",
       "346    71.305000\n",
       "347    68.041973\n",
       "348    70.268799\n",
       "349    71.435269\n",
       "350    76.342232\n",
       "351    74.859336\n",
       "352    76.322836\n",
       "353    75.621858\n",
       "354    75.403574\n",
       "355    80.946849\n",
       "356    82.097270\n",
       "357    83.045140\n",
       "358    83.048730\n",
       "359    84.251636\n",
       "360    81.085307\n",
       "361    88.953955\n",
       "362    85.514365\n",
       "363    83.441017\n",
       "364    84.579747\n",
       "365    77.973512\n",
       "366    81.468090\n",
       "367    72.450565\n",
       "368    72.456036\n",
       "369    81.290980\n",
       "370    77.903534\n",
       "371    83.798199\n",
       "372    79.195789\n",
       "373    82.968859\n",
       "Name: 0, Length: 374, dtype: float64"
      ]
     },
     "execution_count": 12,
     "metadata": {},
     "output_type": "execute_result"
    }
   ],
   "source": [
    "#Примените построенное преобразование к исходным данным и возьмите значения первой компоненты\n",
    "df_comp = pd.DataFrame(cl.transform(data))\n",
    "comp0 = df_comp[0]\n",
    "comp0"
   ]
  },
  {
   "cell_type": "code",
   "execution_count": 19,
   "metadata": {},
   "outputs": [
    {
     "data": {
      "text/plain": [
       "array([[1.        , 0.90965222],\n",
       "       [0.90965222, 1.        ]])"
      ]
     },
     "execution_count": 19,
     "metadata": {},
     "output_type": "execute_result"
    }
   ],
   "source": [
    "#Загрузите информацию об индексе Доу-Джонса из файла djia_index.csv. \n",
    "#Чему равна корреляция Пирсона между первой компонентой и индексом Доу-Джонса?\n",
    "\n",
    "index = pd.read_csv(\"djia_index.csv\")\n",
    "dji = index['^DJI']\n",
    "corr = corrcoef(comp0, dji)\n",
    "corr"
   ]
  },
  {
   "cell_type": "code",
   "execution_count": 20,
   "metadata": {},
   "outputs": [
    {
     "data": {
      "text/plain": [
       "'V'"
      ]
     },
     "execution_count": 20,
     "metadata": {},
     "output_type": "execute_result"
    }
   ],
   "source": [
    "#Какая компания имеет наибольший вес в первой компоненте? Укажите ее название с большой буквы.\n",
    "\n",
    "comp0_w = pd.Series(cl.components_[0])\n",
    "comp0_w_top = comp0_w.sort_values(ascending=False).head(1).index[0]\n",
    "company = data.columns[comp0_w_top]\n",
    "company"
   ]
  },
  {
   "cell_type": "code",
   "execution_count": null,
   "metadata": {},
   "outputs": [],
   "source": []
  },
  {
   "cell_type": "code",
   "execution_count": null,
   "metadata": {},
   "outputs": [],
   "source": []
  }
 ],
 "metadata": {
  "kernelspec": {
   "display_name": "Python 3",
   "language": "python",
   "name": "python3"
  },
  "language_info": {
   "codemirror_mode": {
    "name": "ipython",
    "version": 3
   },
   "file_extension": ".py",
   "mimetype": "text/x-python",
   "name": "python",
   "nbconvert_exporter": "python",
   "pygments_lexer": "ipython3",
   "version": "3.6.4"
  }
 },
 "nbformat": 4,
 "nbformat_minor": 2
}
